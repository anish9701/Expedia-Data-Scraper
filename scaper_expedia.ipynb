{
  "nbformat": 4,
  "nbformat_minor": 0,
  "metadata": {
    "colab": {
      "provenance": [],
      "authorship_tag": "ABX9TyODY2zpJ1zQd/W7hMHyJuTE",
      "include_colab_link": true
    },
    "kernelspec": {
      "name": "python3",
      "display_name": "Python 3"
    },
    "language_info": {
      "name": "python"
    }
  },
  "cells": [
    {
      "cell_type": "markdown",
      "metadata": {
        "id": "view-in-github",
        "colab_type": "text"
      },
      "source": [
        "<a href=\"https://colab.research.google.com/github/anish9701/Expedia-Data-Scraper/blob/main/scaper_expedia.ipynb\" target=\"_parent\"><img src=\"https://colab.research.google.com/assets/colab-badge.svg\" alt=\"Open In Colab\"/></a>"
      ]
    },
    {
      "cell_type": "code",
      "execution_count": null,
      "metadata": {
        "id": "M8zGYp7-1BYL"
      },
      "outputs": [],
      "source": [
        "from selenium import webdriver\n",
        "from selenium.webdriver.common.by import By\n",
        "from selenium.webdriver.common.keys import Keys\n",
        "import selenium.common.exceptions as selexcept\n",
        "#Pandas imports using Pandas for structuring our data\n",
        "import pandas as pd\n",
        "from datetime import datetime\n",
        "import os.path\n",
        "import re\n",
        "import sys\n",
        "import glob\n",
        "\n",
        "# Time and date-time (mainly for using delays between clicks)\n",
        "import time\n",
        "#Change this to your own chromedriver path!\n",
        "chromedriver_path = 'Insert your own path'\n",
        "\n",
        "# This will open the Chrome window\n",
        "browser = webdriver.Chrome(executable_path=chromedriver_path)\n",
        "    \n",
        "#Setting Round Trip type path\n",
        "return_ticket = \"//label[@id='flight-type-roundtrip-label-hp-flight']\""
      ]
    },
    {
      "cell_type": "code",
      "source": [
        "def ticket_chooser(ticket):\n",
        "    try:\n",
        "        ticket_type = browser.find_element_by_xpath(ticket)\n",
        "        ticket_type.click()\n",
        "    except Exception as e:\n",
        "        pass\n",
        "\n",
        "def more_details(details):\n",
        "    try:\n",
        "        details_type = browser.find_element_by_xpath(details)\n",
        "        details_type.click()\n",
        "    except Exception as e:\n",
        "        pass\n",
        "\n",
        "def dep_country_chooser(dep_country):\n",
        "    fly_from = browser.find_element_by_xpath(\"//input[@id='flight-origin-hp-flight']\")\n",
        "    time.sleep(3)\n",
        "    fly_from.clear()\n",
        "    time.sleep(3)\n",
        "    fly_from.send_keys('  ' + dep_country)\n",
        "    time.sleep(3)\n",
        "    first_item = browser.find_element_by_xpath(\"//a[@id='aria-option-0']\")\n",
        "    time.sleep(3)\n",
        "    first_item.click()\n",
        "\n",
        "def arrival_country_chooser(arrival_country):\n",
        "    fly_to = browser.find_element_by_xpath(\"//input[@id='flight-destination-hp-flight']\")\n",
        "    time.sleep(3)\n",
        "    fly_to.clear()\n",
        "    time.sleep(3)\n",
        "    fly_to.send_keys('  ' + arrival_country)\n",
        "    time.sleep(3)\n",
        "    first_item = browser.find_element_by_xpath(\"//a[@id='aria-option-0']\")\n",
        "    time.sleep(3)\n",
        "    first_item.click()\n",
        "\n",
        "def dep_date_chooser(month, day, year):\n",
        "    dep_date_button = browser.find_element_by_xpath(\"//input[@id='flight-departing-hp-flight']\")\n",
        "    dep_date_button.clear()\n",
        "    dep_date_button.send_keys(str(month) + \"/\" + str(day) + \"/\" + str(year))\n",
        "\n",
        "def return_date_chooser(month, day, year):\n",
        "    return_date_button = browser.find_element_by_xpath(\"//input[@id='flight-returning-hp-flight']\")\n",
        "    for i in range(11):\n",
        "        return_date_button.send_keys(Keys.BACKSPACE)\n",
        "    return_date_button.send_keys(str(month) + \\\"/\\\" + str(day) + \\\"/\\\" + str(year))\n",
        "\n",
        "\n",
        "    #Added Last Line directly from Raw file, So if error throws up then its the coz of last line definitely"
      ],
      "metadata": {
        "id": "R2HJx4DY3_d0"
      },
      "execution_count": null,
      "outputs": []
    },
    {
      "cell_type": "code",
      "source": [
        "def search():\n",
        "  search = browser.find_element_by_xpath(\\\"//button[@class='btn-primary btn-action gcw-submit']\\\")\n",
        "  time.sleep(5)\n",
        "  browser.execute_script(\\\"arguments[0].click();\\\", search)\n",
        "  time.sleep(20)"
      ],
      "metadata": {
        "id": "7P2XdpF15qNW"
      },
      "execution_count": null,
      "outputs": []
    },
    {
      "cell_type": "code",
      "source": [
        "def CheckLastFlightIndexByPrice(price_list, factor):\n",
        "  price_list_size = len(price_list)\n",
        "  if (price_list_size == 0):\n",
        "    return 0\n",
        "  price_list_ = ''.join(price_list)\n",
        "  price_list_as_numbers = re.findall(r'[0-9][0-9,]+', price_list_)\n",
        "  for i in range(price_list_size):\n",
        "    price_list_as_numbers[i] = int(price_list_as_numbers[i].replace(',', ''))\n",
        "  min_price = min(price_list_as_numbers)\n",
        "  for i in range(price_list_size):\n",
        "    if (int(price_list_as_numbers[i]) > factor*int(min_price)):\n",
        "      return i\n",
        "  return i"
      ],
      "metadata": {
        "id": "eUBNTT9k6U0C"
      },
      "execution_count": null,
      "outputs": []
    },
    {
      "cell_type": "code",
      "source": [
        "def GenerateBadIndex(dep_times_list, last_flight_index):\n",
        "  # hide unnecessary buttons\n",
        "  bad_indexes = []\n",
        "  expand_button = browser.find_elements_by_xpath(\\\"//span[@class='show-flight-details']\\\")\n",
        "  expand_button_list = [value.text for value in expand_button]  \n",
        "  \n",
        "  for i in range(last_flight_index):\n",
        "    if (str(expand_button_list[i]) == 'Flight details and baggage fees') :\n",
        "      bad_indexes.append(i)\n",
        "  return bad_indexes"
      ],
      "metadata": {
        "id": "y6KeNhiI8MVb"
      },
      "execution_count": null,
      "outputs": []
    },
    {
      "cell_type": "code",
      "source": [
        "def RevealNFlight(n):\n",
        "  try:\n",
        "    air_type_details = \\\"(//a[@class='flight-details-link toggle-trigger'])[\\\" + str(n) + \\\"]    #might be be bad\n",
        "    more_details(air_type_details)\n",
        "  except Exception as e:\n",
        "    pass"
      ],
      "metadata": {
        "id": "firIDHkE9NMj"
      },
      "execution_count": null,
      "outputs": []
    },
    {
      "cell_type": "code",
      "source": [
        "def HideNFlight(n):\n",
        "  try:\n",
        "    air_type_details_hide = \\\"(//a[@class='flight-details-link toggle-trigger open'])[\\\" + str(n) + \\\"]  #might be be wrong\n",
        "    more_details(air_type_details_hide)\n",
        "  except Exception as e:\n",
        "    pass"
      ],
      "metadata": {
        "id": "OfMWQUwp-H27"
      },
      "execution_count": null,
      "outputs": []
    },
    {
      "cell_type": "code",
      "source": [
        "def AddingFlightDetails(i, stops_list, bad_indexes, number_element_to_ignore):\n",
        "  while True:\n",
        "    if (len(bad_indexes)> 0):\n",
        "      first_element = int(bad_indexes[0])\n",
        "      if (first_element == i+number_element_to_ignore):\n",
        "        number_element_to_ignore = number_element_to_ignore + 1\n",
        "        bad_indexes_length = bad_indexes_length - 1\n",
        "        bad_indexes.pop(0)\n",
        "        continue\n",
        "    break\n",
        "    # prepare the web page for our desire flight (with the consideration of revael just one flight each iteration)\n",
        "    RevealNFlight(1+i+number_element_to_ignore)\n",
        "    #Airplan type\n",
        "    air_type = browser.find_elements_by_xpath(\\\"//li[@data-test-id='aircraft-in-details']\\\")\n",
        "    air_type_list = [value.text for value in air_type]\n",
        "    #details-departure-localName\n",
        "    dep_local_name = browser.find_elements_by_xpath(\\\"//span[@data-test-id='details-departure-localName']\\\")\n",
        "    dep_local_name_list = [value.text for value in dep_local_name]\n",
        "  \n",
        "    #details-arrival-localName\n",
        "    arr_local_name = browser.find_elements_by_xpath(\\\"//span[@data-test-id='details-arrival-localName']\\\")\n",
        "    arr_local_name_list = [value.text for value in arr_local_name]\n",
        "    #details-airline-data\n",
        "    details_airline_data = browser.find_elements_by_xpath(\\\"//li[@data-test-id='details-airline-data']\\\")\n",
        "    details_airline_data_list = [value.text for value in details_airline_data]\n",
        "    #details-airline-data\n",
        "    class_type = browser.find_elements_by_xpath(\\\"//li[@data-test-id='details-class-type']\\\")\n",
        "    class_type_list = [value.text for value in class_type]\n",
        "    j=0\n",
        "    # Insert flight details to our DF\n",
        "    try:\n",
        "      df.loc[i, 'dep_airType'] = air_type_list[j]\n",
        "      df.loc[i, 'dep_Coach'] = class_type_list[j]\n",
        "    except Exception as e:\n",
        "      pass\n",
        "    try:\n",
        "      df.loc[i, 'departure_localName'] = dep_local_name_list[j]\n",
        "      df.loc[i, 'departure_details_airline_data'] = details_airline_data_list[j]\n",
        "      stops_number_at_row_i = re.findall(\\\"\\\\d+\\\", stops_list[i])\n",
        "      k=1\n",
        "      if (len(stops_number_at_row_i) > 0) :\n",
        "        while (int(stops_number_at_row_i[0]) > 0) :\n",
        "          stops_number_at_row_i[0] = int(stops_number_at_row_i[0]) - 1\n",
        "          j=j+1\\n\",\n",
        "          df.loc[i, 'Connection_%s' % k] = dep_local_name_list[j]\n",
        "          df.loc[i, 'Connection_details_airline_data_%s' % k] = details_airline_data_list[j]\n",
        "          df.loc[i, 'Connection_airType_%s' % k] = air_type_list[j]\n",
        "          df.loc[i, 'Connection_Coach_%s' % k] = class_type_list[j]\n",
        "          k=k+1\n",
        "          except Exception as e:\n",
        "            pass\n",
        "          try:\n",
        "            df.loc[i, 'arrival_localName'] = arr_local_name_list[j]\n",
        "            df.loc[i, 'arrival_details_airline_data'] = details_airline_data_list[j]\n",
        "          except Exception as e:\n",
        "            pass\n",
        "          HideNFlight(1)\n",
        "          time.sleep(1)\n",
        "          return number_element_to_ignore"
      ],
      "metadata": {
        "id": "vaiKsYAV-tSS"
      },
      "execution_count": null,
      "outputs": []
    },
    {
      "cell_type": "code",
      "source": [
        "def DataProcessing():\n",
        "    global df\n",
        "    df = df[0:0]\n",
        "    number_element_to_ignore = 0   \n",
        "    \n",
        "    # departure times\n",
        "    dep_times = browser.find_elements_by_xpath(\"//span[@data-test-id='departure-time']\")\n",
        "    dep_times_list = [value.text for value in dep_times]\n",
        "    \n",
        "    # arrival times\n",
        "    arr_times = browser.find_elements_by_xpath(\"//span[@data-test-id='arrival-time']\")\n",
        "    arr_times_list = [value.text for value in arr_times]\n",
        "    \n",
        "    # airline name\n",
        "    airlines = browser.find_elements_by_xpath(\"//span[@data-test-id='airline-name']\")\n",
        "    airlines_list = [value.text for value in airlines]\n",
        "        \n",
        "    # durations\n",
        "    durations = browser.find_elements_by_xpath(\"//span[@data-test-id='duration']\")\n",
        "    durations_list = [value.text for value in durations]\n",
        "    \n",
        "    # stops\n",
        "    stops = browser.find_elements_by_xpath(\"//span[@class='number-stops']\")\n",
        "    stops_list = [value.text for value in stops]\n",
        "    \n",
        "    # layovers\n",
        "    layovers = browser.find_elements_by_xpath(\"//span[@data-test-id='layover-airport-stops']\")\n",
        "    layovers_list = [value.text for value in layovers]\n",
        "    \n",
        "    # prices\n",
        "    prices = browser.find_elements_by_xpath(\"//span[@data-test-id='listing-price-dollars']\")\n",
        "    price_list = [value.text for value in prices]\n",
        "    \n",
        "    # last flight to scrape according to the price differences (here we choose multiply by 2)  \n",
        "    last_flight_index = CheckLastFlightIndexByPrice(price_list, 2)\n",
        "    \n",
        "    #Genrate flight to igonre according to the last_flight_index\n",
        "    bad_indexes = GenerateBadIndex(dep_times_list, last_flight_index)\n",
        "\n",
        "    # delete the non relevant flights\n",
        "    for i in range(len(bad_indexes)):\n",
        "        dep_times_list.pop(int(bad_indexes[i]))\n",
        "        arr_times_list.pop(int(bad_indexes[i]))\n",
        "    \n",
        "    # Insert data to our DF\n",
        "    for i in range(last_flight_index):\n",
        "        try:\n",
        "            df.loc[i, 'departure_time'] = dep_times_list[i]\n",
        "        except Exception as e:\n",
        "            pass\n",
        "        try:\n",
        "            df.loc[i, 'arrival_time'] = arr_times_list[i]\n",
        "        except Exception as e:\n",
        "            pass\n",
        "        try:\n",
        "            df.loc[i, 'airline'] = airlines_list[i]\n",
        "        except Exception as e:\n",
        "            pass\n",
        "        try:\n",
        "            df.loc[i, 'duration'] = durations_list[i]\n",
        "        except Exception as e:\n",
        "            pass\n",
        "        try:\n",
        "            df.loc[i, 'stops'] = stops_list[i]\n",
        "        except Exception as e:\n",
        "            pass\n",
        "        try:\n",
        "            df.loc[i, 'layovers'] = layovers_list[i]\n",
        "        except Exception as e:\n",
        "            pass\n",
        "        try:\n",
        "            df.loc[i, 'price'] = price_list[i]\n",
        "        except Exception as e:\n",
        "            pass\n",
        "        try:\n",
        "            # Adding flight details data\n",
        "            number_element_to_ignore = AddingFlightDetails(i, stops_list, bad_indexes, number_element_to_ignore)\n",
        "        except Exception as e:\n",
        "            pass"
      ],
      "metadata": {
        "id": "kdiRcPi6L4oT"
      },
      "execution_count": null,
      "outputs": []
    },
    {
      "cell_type": "code",
      "source": [
        "def GetPathForExcelsOutPut(journeyDetails,i):\n",
        "    dep_arr_name = journeyDetails.at[i,'dep_country_chooser'] + \"_\" + journeyDetails.at[i,'arrival_country_chooser']\n",
        "    sampleTime   = \"sampleTime_\" + str(pd.to_datetime('today').strftime(\"%d/%m/%Y\")).replace(\"/\", \"_\")\n",
        "    dep_date     = str(\"%02d\" % journeyDetails.at[i,'dep_month']) + \"_\" + str(\"%02d\" % journeyDetails.at[i,'dep_day']) + \"_\" + str(journeyDetails.at[i,'dep_year'])\n",
        "    arr_date     = str(\"%02d\" % journeyDetails.at[i,'arr_month']) + \"_\" + str(\"%02d\" % journeyDetails.at[i,'arr_day']) + \"_\" + str(journeyDetails.at[i,'arr_year'])\n",
        "    conc_date    = \"depDate_\" + dep_date + \"_arrDate_\" + arr_date \n",
        "    data_path = \"Insert your data results folder here (the Parent folder that contain the all automatic subdir that will be created)\"\n",
        "    folderPath   = os.path.join(data_path,dep_arr_name, conc_date, 'sampleTime\\\\')\n",
        "    return [folderPath, conc_date]\n",
        " \n",
        "def SaveDfToCsv(journeyDetails,i):\n",
        "    checkPathExist(journeyDetails,i)\n",
        "    [pathForDepArrDate, nameOfFolder] = GetPathForExcelsOutPut(journeyDetails,i)\n",
        "    df['departure_date'] = GetDepartDateUsingFolderName(nameOfFolder) # send file path to function\n",
        "    df['arrival_date'] = GetReturnDateUsingFolderName(nameOfFolder) # send file path to function\n",
        "    df.to_csv(str(GetPathForExcelsOutPut(journeyDetails,i)[0]) + \"_\" + dt.datetime.today().strftime('%y%m%d-%H%M%S')+ \".csv\", index = False)"
      ],
      "metadata": {
        "id": "UHMvNuRVRloR"
      },
      "execution_count": null,
      "outputs": []
    },
    {
      "cell_type": "code",
      "source": [
        "def checkPathExist(journeyDetails,i):\n",
        "  desirePath = GetPathForExcelsOutPut(journeyDetails,i) # get path or create one if it still doesn't exist\\n\",\n",
        "  newpath = desirePath[0]\\n\",\n",
        "  if not os.path.exists(newpath):\n",
        "    os.makedirs(newpath)"
      ],
      "metadata": {
        "id": "11LOtLNyR5q7"
      },
      "execution_count": null,
      "outputs": []
    },
    {
      "cell_type": "code",
      "source": [
        "def ChooseFlight(journeyDetails, i):\n",
        "  link = 'https://www.expedia.com/'\n",
        "  browser.get(link)\n",
        "  time.sleep(10)\n",
        "  # Choose flights only mode\\n\",\n",
        "  flights_only = browser.find_element_by_xpath(\\\"//button[@id='tab-flight-tab-hp']\\\")\\n\",\n",
        "  flights_only.click()\\n\",\n",
        "  ticket_chooser(return_ticket)\\n\",\n",
        "  # Scrape details according to journeyDetails df \\n\",\n",
        "  dep_country_chooser(journeyDetails.at[i,'dep_country_chooser'])\\n\",\n",
        "  arrival_country_chooser(journeyDetails.at[i,'arrival_country_chooser'])\\n\",\n",
        "  dep_date_chooser((\\\"%02d\\\" % journeyDetails.at[i,'dep_month']), (\\\"%02d\\\" % journeyDetails.at[i,'dep_day']), journeyDetails.at[i,'dep_year'])\\n\",\n",
        "  time.sleep(2)\\n\",\n",
        "  return_date_chooser((\\\"%02d\\\" % journeyDetails.at[i,'arr_month']), (\\\"%02d\\\" % journeyDetails.at[i,'arr_day']), journeyDetails.at[i,'arr_year'])\\n\",\n",
        "  time.sleep(5)\\n\",\n",
        "  search()\\n\",\n",
        "  # This point we have the desire results on web, now we just need to gather the data.\\n\",\n",
        "  time.sleep(10)\""
      ],
      "metadata": {
        "id": "7hlwhF3fSdTd"
      },
      "execution_count": null,
      "outputs": []
    },
    {
      "cell_type": "code",
      "source": [
        "def GetReturnDateUsingFolderName(text) :\n",
        "  match = re.search(r'\\\\d{2}_\\\\d{2}_\\\\d{4}$', text)\n",
        "  print(match)\n",
        "  date = dt.datetime.strptime(match.group(),  '%m_%d_%Y').date()\n",
        "  return date"
      ],
      "metadata": {
        "id": "MQ-SC_8DTGCb"
      },
      "execution_count": null,
      "outputs": []
    },
    {
      "cell_type": "code",
      "source": [
        "def GetDepartDateUsingFolderName(text) :\n",
        "  match = re.search(r'\\\\d{2}_\\\\d{2}_\\\\d{4}', text)\n",
        "  date = dt.datetime.strptime(match.group(),  '%m_%d_%Y').date()\n",
        "  return date"
      ],
      "metadata": {
        "id": "UHcuMB1gUkX3"
      },
      "execution_count": null,
      "outputs": []
    },
    {
      "cell_type": "code",
      "source": [
        "def AmendTimeAndDate():\n",
        "  df['time'] = pd.to_datetime('today').strftime('%H:%M:%S')\n",
        "  df['date'] = pd.to_datetime('today').strftime(\\\"%m/%d/%Y\\\")"
      ],
      "metadata": {
        "id": "aLZqA3jVUvXh"
      },
      "execution_count": null,
      "outputs": []
    },
    {
      "cell_type": "code",
      "source": [
        "def SaveDfToCsv(journeyDetails,i):\n",
        "  checkPathExist(journeyDetails,i)\n",
        "  [pathForDepArrDate, nameOfFolder] = GetPathForExcelsOutPut(journeyDetails,i)\\n\",\n",
        "  df['departure_date'] = GetDepartDateUsingFolderName(nameOfFolder) # send file path to function\\n\",\n",
        "  df['arrival_date'] = GetReturnDateUsingFolderName(nameOfFolder) # send file path to function\\n\",\n",
        "  df.to_csv(str(GetPathForExcelsOutPut(journeyDetails,i)[0]) + \\\"_\\\" + dt.datetime.today().strftime('%y%m%d-%H%M%S')+ \\\".csv\\\", index = False)"
      ],
      "metadata": {
        "id": "-0256glUaU7B"
      },
      "execution_count": null,
      "outputs": []
    },
    {
      "cell_type": "code",
      "source": [
        "def ProcessJourney(journeyDetails, i):\n",
        "  ChooseFlight(journeyDetails, i)\n",
        "  DataProcessing()            \n",
        "  AmendTimeAndDate()   \n",
        "  SaveDfToCsv(journeyDetails,i)"
      ],
      "metadata": {
        "id": "2B6YgKawatGK"
      },
      "execution_count": null,
      "outputs": []
    },
    {
      "cell_type": "code",
      "source": [
        "journeys_path = \"\\\"Insert your excel journeys path\\\"\n",
        "df_journeys = pd.read_csv(journeys_path)\n",
        "start_global_time = time.time()\n",
        "for i, row in df_journeys.iterrows(): \n",
        "  start_time = time.time()\n",
        "  try :\n",
        "    ProcessJourney(df_journeys.loc[[i]],i)\n",
        "  except (selexcept.NoSuchElementException, selexcept.StaleElementReferenceException) :\n",
        "    # Handling internet connection issues\n",
        "    pass\n",
        "  time.sleep(5)"
      ],
      "metadata": {
        "id": "gXtfhaxIbAEL"
      },
      "execution_count": null,
      "outputs": []
    }
  ]
}